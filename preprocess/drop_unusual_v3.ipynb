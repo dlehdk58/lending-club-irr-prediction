{
 "cells": [
  {
   "cell_type": "code",
   "execution_count": 4,
   "id": "d97afad7",
   "metadata": {},
   "outputs": [],
   "source": [
    "import pandas as pd\n",
    "import numpy as np"
   ]
  },
  {
   "cell_type": "code",
   "execution_count": 21,
   "id": "b60cec6b",
   "metadata": {},
   "outputs": [],
   "source": [
    "df = pd.read_csv('./data/IRR_preprocess_all_v3.csv')"
   ]
  },
  {
   "cell_type": "code",
   "execution_count": 22,
   "id": "1cfb700f",
   "metadata": {},
   "outputs": [],
   "source": [
    "temp = df.copy()"
   ]
  },
  {
   "cell_type": "code",
   "execution_count": 23,
   "id": "0232c274",
   "metadata": {},
   "outputs": [],
   "source": [
    "temp['term_int'] = np.where(temp['term']==1, 36, 60)"
   ]
  },
  {
   "cell_type": "code",
   "execution_count": 24,
   "id": "3ce3ff09",
   "metadata": {},
   "outputs": [
    {
     "data": {
      "text/html": [
       "<div>\n",
       "<style scoped>\n",
       "    .dataframe tbody tr th:only-of-type {\n",
       "        vertical-align: middle;\n",
       "    }\n",
       "\n",
       "    .dataframe tbody tr th {\n",
       "        vertical-align: top;\n",
       "    }\n",
       "\n",
       "    .dataframe thead th {\n",
       "        text-align: right;\n",
       "    }\n",
       "</style>\n",
       "<table border=\"1\" class=\"dataframe\">\n",
       "  <thead>\n",
       "    <tr style=\"text-align: right;\">\n",
       "      <th></th>\n",
       "      <th>term</th>\n",
       "      <th>term_int</th>\n",
       "    </tr>\n",
       "  </thead>\n",
       "  <tbody>\n",
       "    <tr>\n",
       "      <th>0</th>\n",
       "      <td>0</td>\n",
       "      <td>60</td>\n",
       "    </tr>\n",
       "    <tr>\n",
       "      <th>1</th>\n",
       "      <td>1</td>\n",
       "      <td>36</td>\n",
       "    </tr>\n",
       "    <tr>\n",
       "      <th>2</th>\n",
       "      <td>1</td>\n",
       "      <td>36</td>\n",
       "    </tr>\n",
       "    <tr>\n",
       "      <th>3</th>\n",
       "      <td>1</td>\n",
       "      <td>36</td>\n",
       "    </tr>\n",
       "    <tr>\n",
       "      <th>4</th>\n",
       "      <td>0</td>\n",
       "      <td>60</td>\n",
       "    </tr>\n",
       "    <tr>\n",
       "      <th>...</th>\n",
       "      <td>...</td>\n",
       "      <td>...</td>\n",
       "    </tr>\n",
       "    <tr>\n",
       "      <th>1075393</th>\n",
       "      <td>0</td>\n",
       "      <td>60</td>\n",
       "    </tr>\n",
       "    <tr>\n",
       "      <th>1075394</th>\n",
       "      <td>1</td>\n",
       "      <td>36</td>\n",
       "    </tr>\n",
       "    <tr>\n",
       "      <th>1075395</th>\n",
       "      <td>1</td>\n",
       "      <td>36</td>\n",
       "    </tr>\n",
       "    <tr>\n",
       "      <th>1075396</th>\n",
       "      <td>1</td>\n",
       "      <td>36</td>\n",
       "    </tr>\n",
       "    <tr>\n",
       "      <th>1075397</th>\n",
       "      <td>1</td>\n",
       "      <td>36</td>\n",
       "    </tr>\n",
       "  </tbody>\n",
       "</table>\n",
       "<p>1075398 rows × 2 columns</p>\n",
       "</div>"
      ],
      "text/plain": [
       "         term  term_int\n",
       "0           0        60\n",
       "1           1        36\n",
       "2           1        36\n",
       "3           1        36\n",
       "4           0        60\n",
       "...       ...       ...\n",
       "1075393     0        60\n",
       "1075394     1        36\n",
       "1075395     1        36\n",
       "1075396     1        36\n",
       "1075397     1        36\n",
       "\n",
       "[1075398 rows x 2 columns]"
      ]
     },
     "execution_count": 24,
     "metadata": {},
     "output_type": "execute_result"
    }
   ],
   "source": [
    "temp[['term', 'term_int']]"
   ]
  },
  {
   "cell_type": "code",
   "execution_count": 25,
   "id": "e55f53a0",
   "metadata": {},
   "outputs": [
    {
     "data": {
      "text/plain": [
       "1075398"
      ]
     },
     "execution_count": 25,
     "metadata": {},
     "output_type": "execute_result"
    }
   ],
   "source": [
    "len(temp)"
   ]
  },
  {
   "cell_type": "code",
   "execution_count": 32,
   "id": "67dd4350",
   "metadata": {},
   "outputs": [],
   "source": [
    "temp = temp[~((temp['loan_status'] == 0) & (temp['total_calc'] < temp['funded_amnt']))]"
   ]
  },
  {
   "cell_type": "code",
   "execution_count": 31,
   "id": "f58da4b2",
   "metadata": {},
   "outputs": [
    {
     "data": {
      "text/plain": [
       "50"
      ]
     },
     "execution_count": 31,
     "metadata": {},
     "output_type": "execute_result"
    }
   ],
   "source": [
    "len(temp[(temp['loan_status'] == 0) & (temp['total_calc'] < temp['funded_amnt'])][['total_calc', 'total_pymnt', 'loan_status']])"
   ]
  },
  {
   "cell_type": "code",
   "execution_count": 33,
   "id": "9a4c5b3c",
   "metadata": {},
   "outputs": [
    {
     "data": {
      "text/plain": [
       "1075348"
      ]
     },
     "execution_count": 33,
     "metadata": {},
     "output_type": "execute_result"
    }
   ],
   "source": [
    "len(temp)"
   ]
  },
  {
   "cell_type": "code",
   "execution_count": 36,
   "id": "e606f9f7",
   "metadata": {},
   "outputs": [],
   "source": [
    "df = df[df['id'].isin(temp['id'])]"
   ]
  },
  {
   "cell_type": "code",
   "execution_count": 37,
   "id": "3c27cb90",
   "metadata": {},
   "outputs": [
    {
     "data": {
      "text/plain": [
       "1075348"
      ]
     },
     "execution_count": 37,
     "metadata": {},
     "output_type": "execute_result"
    }
   ],
   "source": [
    "len(df)"
   ]
  },
  {
   "cell_type": "code",
   "execution_count": 38,
   "id": "d124c828",
   "metadata": {},
   "outputs": [],
   "source": [
    "df.to_csv('./data/unusual_drop_preprocess_all_v4.csv', index=False)"
   ]
  },
  {
   "cell_type": "code",
   "execution_count": 39,
   "id": "78bcb0c1",
   "metadata": {},
   "outputs": [
    {
     "data": {
      "text/plain": [
       "70"
      ]
     },
     "execution_count": 39,
     "metadata": {},
     "output_type": "execute_result"
    }
   ],
   "source": [
    "len(df.columns)"
   ]
  },
  {
   "cell_type": "code",
   "execution_count": 40,
   "id": "392b3920",
   "metadata": {},
   "outputs": [
    {
     "data": {
      "text/plain": [
       "Index(['acc_now_delinq', 'acc_open_past_24mths', 'addr_state', 'annual_inc',\n",
       "       'bc_open_to_buy', 'bc_util', 'chargeoff_within_12_mths',\n",
       "       'collections_12_mths_ex_med', 'delinq_2yrs', 'dti', 'grade',\n",
       "       'home_ownership', 'id', 'inq_last_6mths', 'installment', 'int_rate',\n",
       "       'issue_d', 'loan_amnt', 'loan_status', 'loan_status_label',\n",
       "       'mo_sin_old_il_acct', 'mo_sin_old_rev_tl_op', 'mo_sin_rcnt_rev_tl_op',\n",
       "       'mo_sin_rcnt_tl', 'mort_acc', 'mths_since_last_delinq',\n",
       "       'mths_since_last_major_derog', 'mths_since_last_record',\n",
       "       'mths_since_rcnt_il', 'mths_since_recent_bc',\n",
       "       'mths_since_recent_bc_dlq', 'mths_since_recent_inq',\n",
       "       'mths_since_recent_revol_delinq', 'num_accts_ever_120_pd',\n",
       "       'num_actv_bc_tl', 'num_actv_rev_tl', 'num_bc_sats', 'num_bc_tl',\n",
       "       'num_il_tl', 'num_op_rev_tl', 'num_rev_accts', 'num_tl_120dpd_2m',\n",
       "       'num_tl_30dpd', 'num_tl_90g_dpd_24m', 'num_tl_op_past_12m', 'open_acc',\n",
       "       'pct_tl_nvr_dlq', 'pub_rec', 'pub_rec_bankruptcies', 'purpose',\n",
       "       'revol_bal', 'revol_util', 'sub_grade', 'tax_liens', 'term',\n",
       "       'tot_coll_amt', 'tot_hi_cred_lim', 'total_acc', 'total_bal_ex_mort',\n",
       "       'total_pymnt', 'total_rev_hi_lim', 'verification_status', 'emp_length',\n",
       "       'fico', 'credit_hist_months', 'have_bc', 'have_rev', 'treasury',\n",
       "       'funded_amnt', 'irr'],\n",
       "      dtype='object')"
      ]
     },
     "execution_count": 40,
     "metadata": {},
     "output_type": "execute_result"
    }
   ],
   "source": [
    "df.columns"
   ]
  }
 ],
 "metadata": {
  "kernelspec": {
   "display_name": "fin",
   "language": "python",
   "name": "python3"
  },
  "language_info": {
   "codemirror_mode": {
    "name": "ipython",
    "version": 3
   },
   "file_extension": ".py",
   "mimetype": "text/x-python",
   "name": "python",
   "nbconvert_exporter": "python",
   "pygments_lexer": "ipython3",
   "version": "3.13.5"
  }
 },
 "nbformat": 4,
 "nbformat_minor": 5
}
