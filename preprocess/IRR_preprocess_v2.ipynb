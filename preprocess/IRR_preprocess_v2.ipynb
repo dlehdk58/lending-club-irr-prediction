{
 "cells": [
  {
   "cell_type": "code",
   "execution_count": 1,
   "id": "ea75f8f3-f2c6-4216-bd9d-cdf788fdf2ea",
   "metadata": {},
   "outputs": [],
   "source": [
    "import pandas as pd\n",
    "import numpy as np"
   ]
  },
  {
   "cell_type": "code",
   "execution_count": 3,
   "id": "710b38f2-4a0d-43a9-8edd-9b1915f38d34",
   "metadata": {},
   "outputs": [
    {
     "name": "stdout",
     "output_type": "stream",
     "text": [
      "Requirement already satisfied: numpy-financial in /opt/anaconda3/lib/python3.12/site-packages (1.0.0)\n",
      "Requirement already satisfied: numpy>=1.15 in /opt/anaconda3/lib/python3.12/site-packages (from numpy-financial) (1.26.4)\n",
      "Note: you may need to restart the kernel to use updated packages.\n"
     ]
    }
   ],
   "source": [
    "pip install numpy-financial"
   ]
  },
  {
   "cell_type": "code",
   "execution_count": 2,
   "id": "f1532123-e84e-4ef2-9b21-098ae694aff7",
   "metadata": {},
   "outputs": [],
   "source": [
    "import numpy_financial as npf"
   ]
  },
  {
   "cell_type": "code",
   "execution_count": 3,
   "id": "b970d583-e0aa-4c75-983e-0640c8beb632",
   "metadata": {},
   "outputs": [],
   "source": [
    "df = pd.read_csv('preprocess_all_v1.csv')"
   ]
  },
  {
   "cell_type": "code",
   "execution_count": 4,
   "id": "5157b677-40d6-43fd-bf43-224cd037985b",
   "metadata": {},
   "outputs": [
    {
     "name": "stdout",
     "output_type": "stream",
     "text": [
      "['acc_now_delinq', 'acc_open_past_24mths', 'addr_state', 'annual_inc', 'bc_open_to_buy', 'bc_util', 'chargeoff_within_12_mths', 'collections_12_mths_ex_med', 'delinq_2yrs', 'dti', 'grade', 'home_ownership', 'id', 'inq_last_6mths', 'installment', 'int_rate', 'issue_d', 'loan_amnt', 'loan_status', 'loan_status_label', 'mo_sin_old_il_acct', 'mo_sin_old_rev_tl_op', 'mo_sin_rcnt_rev_tl_op', 'mo_sin_rcnt_tl', 'mort_acc', 'mths_since_last_delinq', 'mths_since_last_major_derog', 'mths_since_last_record', 'mths_since_rcnt_il', 'mths_since_recent_bc', 'mths_since_recent_bc_dlq', 'mths_since_recent_inq', 'mths_since_recent_revol_delinq', 'num_accts_ever_120_pd', 'num_actv_bc_tl', 'num_actv_rev_tl', 'num_bc_sats', 'num_bc_tl', 'num_il_tl', 'num_op_rev_tl', 'num_rev_accts', 'num_tl_120dpd_2m', 'num_tl_30dpd', 'num_tl_90g_dpd_24m', 'num_tl_op_past_12m', 'open_acc', 'pct_tl_nvr_dlq', 'pub_rec', 'pub_rec_bankruptcies', 'purpose', 'revol_bal', 'revol_util', 'sub_grade', 'tax_liens', 'term', 'tot_coll_amt', 'tot_hi_cred_lim', 'total_acc', 'total_bal_ex_mort', 'total_pymnt', 'total_rev_hi_lim', 'verification_status', 'emp_length', 'fico', 'credit_hist_months', 'have_bc', 'have_rev', 'treasury']\n"
     ]
    }
   ],
   "source": [
    "columns_list = df.columns.tolist()\n",
    "print(columns_list)"
   ]
  },
  {
   "cell_type": "code",
   "execution_count": 5,
   "id": "e7453f99-6bce-4d1c-b40f-f053f6be3637",
   "metadata": {},
   "outputs": [
    {
     "data": {
      "text/plain": [
       "0     84253847\n",
       "1    119708428\n",
       "2    109906493\n",
       "3     60286250\n",
       "4    151871973\n",
       "Name: id, dtype: int64"
      ]
     },
     "execution_count": 5,
     "metadata": {},
     "output_type": "execute_result"
    }
   ],
   "source": [
    "df['id'].head()"
   ]
  },
  {
   "cell_type": "code",
   "execution_count": 6,
   "id": "167ecf91-8982-41ff-b3f4-d3ed1384eff6",
   "metadata": {},
   "outputs": [
    {
     "name": "stdout",
     "output_type": "stream",
     "text": [
      "중복 존재 여부: False\n"
     ]
    }
   ],
   "source": [
    "has_duplicates = df['id'].duplicated().any()\n",
    "print(f\"중복 존재 여부: {has_duplicates}\")"
   ]
  },
  {
   "cell_type": "code",
   "execution_count": 7,
   "id": "92d4227e-5f95-4b78-9896-bd3030eea320",
   "metadata": {},
   "outputs": [
    {
     "name": "stderr",
     "output_type": "stream",
     "text": [
      "/var/folders/_p/v2fnmdsd6l97jkvv3652qkcm0000gn/T/ipykernel_872/3451801978.py:1: DtypeWarning: Columns (0) have mixed types. Specify dtype option on import or set low_memory=False.\n",
      "  df_raw = pd.read_csv('lending_club_2020_train.csv')\n"
     ]
    }
   ],
   "source": [
    "df_raw = pd.read_csv('lending_club_2020_train.csv')"
   ]
  },
  {
   "cell_type": "code",
   "execution_count": 8,
   "id": "98168bd3-a669-4e72-ab17-ce077a02fc25",
   "metadata": {},
   "outputs": [
    {
     "name": "stdout",
     "output_type": "stream",
     "text": [
      "중복 존재 여부: False\n"
     ]
    }
   ],
   "source": [
    "has_duplicates = df_raw['id'].duplicated().any()\n",
    "print(f\"중복 존재 여부: {has_duplicates}\")"
   ]
  },
  {
   "cell_type": "code",
   "execution_count": 9,
   "id": "104cdf18-59b0-47ea-8255-18a0ed39eef5",
   "metadata": {},
   "outputs": [],
   "source": [
    "df = df.merge(df_raw[['id', 'funded_amnt']], on='id', how='left')"
   ]
  },
  {
   "cell_type": "code",
   "execution_count": 10,
   "id": "1f1b9c5a-2392-4ba6-a19f-05f2b2f14f97",
   "metadata": {},
   "outputs": [
    {
     "data": {
      "text/html": [
       "<div>\n",
       "<style scoped>\n",
       "    .dataframe tbody tr th:only-of-type {\n",
       "        vertical-align: middle;\n",
       "    }\n",
       "\n",
       "    .dataframe tbody tr th {\n",
       "        vertical-align: top;\n",
       "    }\n",
       "\n",
       "    .dataframe thead th {\n",
       "        text-align: right;\n",
       "    }\n",
       "</style>\n",
       "<table border=\"1\" class=\"dataframe\">\n",
       "  <thead>\n",
       "    <tr style=\"text-align: right;\">\n",
       "      <th></th>\n",
       "      <th>acc_now_delinq</th>\n",
       "      <th>acc_open_past_24mths</th>\n",
       "      <th>addr_state</th>\n",
       "      <th>annual_inc</th>\n",
       "      <th>bc_open_to_buy</th>\n",
       "      <th>bc_util</th>\n",
       "      <th>chargeoff_within_12_mths</th>\n",
       "      <th>collections_12_mths_ex_med</th>\n",
       "      <th>delinq_2yrs</th>\n",
       "      <th>dti</th>\n",
       "      <th>...</th>\n",
       "      <th>total_pymnt</th>\n",
       "      <th>total_rev_hi_lim</th>\n",
       "      <th>verification_status</th>\n",
       "      <th>emp_length</th>\n",
       "      <th>fico</th>\n",
       "      <th>credit_hist_months</th>\n",
       "      <th>have_bc</th>\n",
       "      <th>have_rev</th>\n",
       "      <th>treasury</th>\n",
       "      <th>funded_amnt</th>\n",
       "    </tr>\n",
       "  </thead>\n",
       "  <tbody>\n",
       "    <tr>\n",
       "      <th>0</th>\n",
       "      <td>0.0</td>\n",
       "      <td>8.0</td>\n",
       "      <td>OK</td>\n",
       "      <td>11.608245</td>\n",
       "      <td>8.702178</td>\n",
       "      <td>70.374384</td>\n",
       "      <td>0</td>\n",
       "      <td>0</td>\n",
       "      <td>1</td>\n",
       "      <td>34.70</td>\n",
       "      <td>...</td>\n",
       "      <td>8599.680000</td>\n",
       "      <td>10.317483</td>\n",
       "      <td>Verified</td>\n",
       "      <td>10+ years</td>\n",
       "      <td>672.0</td>\n",
       "      <td>278</td>\n",
       "      <td>1</td>\n",
       "      <td>1</td>\n",
       "      <td>1.071500</td>\n",
       "      <td>23200.0</td>\n",
       "    </tr>\n",
       "    <tr>\n",
       "      <th>1</th>\n",
       "      <td>0.0</td>\n",
       "      <td>5.0</td>\n",
       "      <td>TX</td>\n",
       "      <td>11.082158</td>\n",
       "      <td>10.919099</td>\n",
       "      <td>6.566836</td>\n",
       "      <td>0</td>\n",
       "      <td>0</td>\n",
       "      <td>0</td>\n",
       "      <td>17.74</td>\n",
       "      <td>...</td>\n",
       "      <td>11804.280000</td>\n",
       "      <td>11.157707</td>\n",
       "      <td>Not Verified</td>\n",
       "      <td>unknown</td>\n",
       "      <td>822.0</td>\n",
       "      <td>401</td>\n",
       "      <td>1</td>\n",
       "      <td>1</td>\n",
       "      <td>1.682857</td>\n",
       "      <td>16000.0</td>\n",
       "    </tr>\n",
       "    <tr>\n",
       "      <th>2</th>\n",
       "      <td>0.0</td>\n",
       "      <td>3.0</td>\n",
       "      <td>FL</td>\n",
       "      <td>10.819798</td>\n",
       "      <td>7.815207</td>\n",
       "      <td>73.376344</td>\n",
       "      <td>0</td>\n",
       "      <td>0</td>\n",
       "      <td>0</td>\n",
       "      <td>6.99</td>\n",
       "      <td>...</td>\n",
       "      <td>5134.174383</td>\n",
       "      <td>9.532569</td>\n",
       "      <td>Not Verified</td>\n",
       "      <td>5 years</td>\n",
       "      <td>702.0</td>\n",
       "      <td>226</td>\n",
       "      <td>1</td>\n",
       "      <td>1</td>\n",
       "      <td>1.483636</td>\n",
       "      <td>4500.0</td>\n",
       "    </tr>\n",
       "    <tr>\n",
       "      <th>3</th>\n",
       "      <td>0.0</td>\n",
       "      <td>6.0</td>\n",
       "      <td>IL</td>\n",
       "      <td>11.002117</td>\n",
       "      <td>6.891626</td>\n",
       "      <td>91.072727</td>\n",
       "      <td>0</td>\n",
       "      <td>0</td>\n",
       "      <td>0</td>\n",
       "      <td>28.94</td>\n",
       "      <td>...</td>\n",
       "      <td>23278.037543</td>\n",
       "      <td>10.229260</td>\n",
       "      <td>Source Verified</td>\n",
       "      <td>10+ years</td>\n",
       "      <td>677.0</td>\n",
       "      <td>190</td>\n",
       "      <td>1</td>\n",
       "      <td>1</td>\n",
       "      <td>1.013333</td>\n",
       "      <td>20000.0</td>\n",
       "    </tr>\n",
       "    <tr>\n",
       "      <th>4</th>\n",
       "      <td>0.0</td>\n",
       "      <td>5.0</td>\n",
       "      <td>NC</td>\n",
       "      <td>11.487854</td>\n",
       "      <td>9.901736</td>\n",
       "      <td>69.192901</td>\n",
       "      <td>0</td>\n",
       "      <td>0</td>\n",
       "      <td>0</td>\n",
       "      <td>10.31</td>\n",
       "      <td>...</td>\n",
       "      <td>444.230000</td>\n",
       "      <td>11.302229</td>\n",
       "      <td>Verified</td>\n",
       "      <td>5 years</td>\n",
       "      <td>737.0</td>\n",
       "      <td>206</td>\n",
       "      <td>1</td>\n",
       "      <td>1</td>\n",
       "      <td>2.187727</td>\n",
       "      <td>19000.0</td>\n",
       "    </tr>\n",
       "  </tbody>\n",
       "</table>\n",
       "<p>5 rows × 69 columns</p>\n",
       "</div>"
      ],
      "text/plain": [
       "   acc_now_delinq  acc_open_past_24mths addr_state  annual_inc  \\\n",
       "0             0.0                   8.0         OK   11.608245   \n",
       "1             0.0                   5.0         TX   11.082158   \n",
       "2             0.0                   3.0         FL   10.819798   \n",
       "3             0.0                   6.0         IL   11.002117   \n",
       "4             0.0                   5.0         NC   11.487854   \n",
       "\n",
       "   bc_open_to_buy    bc_util  chargeoff_within_12_mths  \\\n",
       "0        8.702178  70.374384                         0   \n",
       "1       10.919099   6.566836                         0   \n",
       "2        7.815207  73.376344                         0   \n",
       "3        6.891626  91.072727                         0   \n",
       "4        9.901736  69.192901                         0   \n",
       "\n",
       "   collections_12_mths_ex_med  delinq_2yrs    dti  ...   total_pymnt  \\\n",
       "0                           0            1  34.70  ...   8599.680000   \n",
       "1                           0            0  17.74  ...  11804.280000   \n",
       "2                           0            0   6.99  ...   5134.174383   \n",
       "3                           0            0  28.94  ...  23278.037543   \n",
       "4                           0            0  10.31  ...    444.230000   \n",
       "\n",
       "  total_rev_hi_lim verification_status  emp_length   fico  credit_hist_months  \\\n",
       "0        10.317483            Verified   10+ years  672.0                 278   \n",
       "1        11.157707        Not Verified     unknown  822.0                 401   \n",
       "2         9.532569        Not Verified     5 years  702.0                 226   \n",
       "3        10.229260     Source Verified   10+ years  677.0                 190   \n",
       "4        11.302229            Verified     5 years  737.0                 206   \n",
       "\n",
       "  have_bc  have_rev  treasury funded_amnt  \n",
       "0       1         1  1.071500     23200.0  \n",
       "1       1         1  1.682857     16000.0  \n",
       "2       1         1  1.483636      4500.0  \n",
       "3       1         1  1.013333     20000.0  \n",
       "4       1         1  2.187727     19000.0  \n",
       "\n",
       "[5 rows x 69 columns]"
      ]
     },
     "execution_count": 10,
     "metadata": {},
     "output_type": "execute_result"
    }
   ],
   "source": [
    "df.head()"
   ]
  },
  {
   "cell_type": "code",
   "execution_count": 11,
   "id": "ae529b70-8b70-459a-9a1d-ed28d4fe38b7",
   "metadata": {},
   "outputs": [
    {
     "data": {
      "text/plain": [
       "2573"
      ]
     },
     "execution_count": 11,
     "metadata": {},
     "output_type": "execute_result"
    }
   ],
   "source": [
    "df['funded_amnt'].isna().sum()"
   ]
  },
  {
   "cell_type": "code",
   "execution_count": 12,
   "id": "ce6c6fd3-3545-4793-9c8d-0131cf8773ed",
   "metadata": {},
   "outputs": [],
   "source": [
    "df['funded_amnt'] = df['funded_amnt'].fillna(df['loan_amnt'])"
   ]
  },
  {
   "cell_type": "code",
   "execution_count": 13,
   "id": "3aa057c7-68fd-46fe-ba70-4e5b2bb1f612",
   "metadata": {},
   "outputs": [
    {
     "data": {
      "text/plain": [
       "0"
      ]
     },
     "execution_count": 13,
     "metadata": {},
     "output_type": "execute_result"
    }
   ],
   "source": [
    "df['funded_amnt'].isna().sum()"
   ]
  },
  {
   "cell_type": "code",
   "execution_count": 14,
   "id": "bf086593-8a93-4002-9840-32a0d8d4a639",
   "metadata": {},
   "outputs": [
    {
     "data": {
      "text/plain": [
       "count    1.075398e+06\n",
       "mean     6.726603e+00\n",
       "std      2.284825e+02\n",
       "min      0.000000e+00\n",
       "25%      0.000000e+00\n",
       "50%      0.000000e+00\n",
       "75%      0.000000e+00\n",
       "max      2.042500e+04\n",
       "dtype: float64"
      ]
     },
     "execution_count": 14,
     "metadata": {},
     "output_type": "execute_result"
    }
   ],
   "source": [
    "diff = df['loan_amnt'] - df['funded_amnt']\n",
    "diff.describe()"
   ]
  },
  {
   "cell_type": "code",
   "execution_count": 15,
   "id": "889a4996-e049-45bb-aee0-0e5efed8a8d4",
   "metadata": {},
   "outputs": [
    {
     "data": {
      "text/plain": [
       "0    2016-07-01\n",
       "1    2017-10-01\n",
       "2    2017-05-01\n",
       "3    2015-09-01\n",
       "4    2019-05-01\n",
       "Name: issue_d, dtype: object"
      ]
     },
     "execution_count": 15,
     "metadata": {},
     "output_type": "execute_result"
    }
   ],
   "source": [
    "df['issue_d'].head()"
   ]
  },
  {
   "cell_type": "code",
   "execution_count": 16,
   "id": "df8dfdaa-33aa-45cf-8d5f-4d4d656223f2",
   "metadata": {},
   "outputs": [
    {
     "data": {
      "text/plain": [
       "0    1.071500\n",
       "1    1.682857\n",
       "2    1.483636\n",
       "3    1.013333\n",
       "4    2.187727\n",
       "Name: treasury, dtype: float64"
      ]
     },
     "execution_count": 16,
     "metadata": {},
     "output_type": "execute_result"
    }
   ],
   "source": [
    "df['treasury'].head()"
   ]
  },
  {
   "cell_type": "code",
   "execution_count": 17,
   "id": "133f124a-4f7e-49f1-8b15-d0a0581221e3",
   "metadata": {},
   "outputs": [
    {
     "data": {
      "text/plain": [
       "0    0\n",
       "1    1\n",
       "2    1\n",
       "3    1\n",
       "4    0\n",
       "Name: term, dtype: int64"
      ]
     },
     "execution_count": 17,
     "metadata": {},
     "output_type": "execute_result"
    }
   ],
   "source": [
    "df['term'].head()"
   ]
  },
  {
   "cell_type": "code",
   "execution_count": 18,
   "id": "0fd69890-78a8-4fce-a28b-07f236693f72",
   "metadata": {},
   "outputs": [],
   "source": [
    "# 기존 국채 연 이자율(%) => 월 이자율 단위로 변환(소수)\n",
    "# 찾아보니 sharpe ratio 계산 시 수익률(이자율)은 %가 아닌 소수로 넣는 게 일반적이라고 합니다!\n",
    "df['treasury'] = ((1 + df['treasury']/100) ** (1/12) - 1)"
   ]
  },
  {
   "cell_type": "code",
   "execution_count": 19,
   "id": "a975cd1a-7fe2-4580-90da-f0b200e6fc29",
   "metadata": {},
   "outputs": [
    {
     "data": {
      "text/plain": [
       "0          0.000889\n",
       "1          0.001392\n",
       "2          0.001228\n",
       "3          0.000841\n",
       "4          0.001805\n",
       "             ...   \n",
       "1075393    0.000703\n",
       "1075394    0.000678\n",
       "1075395    0.000718\n",
       "1075396    0.000329\n",
       "1075397    0.001943\n",
       "Name: treasury, Length: 1075398, dtype: float64"
      ]
     },
     "execution_count": 19,
     "metadata": {},
     "output_type": "execute_result"
    }
   ],
   "source": [
    "df['treasury']"
   ]
  },
  {
   "cell_type": "code",
   "execution_count": 20,
   "id": "a214c672-5b7d-474d-8a1e-0198ee9e277f",
   "metadata": {},
   "outputs": [
    {
     "data": {
      "text/plain": [
       "count    684369.000000\n",
       "mean       2334.114373\n",
       "std        1885.149399\n",
       "min      -27553.720000\n",
       "25%        1071.200000\n",
       "50%        1795.960000\n",
       "75%        2955.160000\n",
       "max       21913.880000\n",
       "dtype: float64"
      ]
     },
     "execution_count": 20,
     "metadata": {},
     "output_type": "execute_result"
    }
   ],
   "source": [
    "# total_payment로 접근해야할까? -> 정상 상환된 경우 'funded_amnt'보다 상환 총액이 작을 수 있나? 특별대출? 프로모션?\n",
    "filtered = df[(df['loan_status'] == 0) & (df['term'] == 1)]\n",
    "installment_minus_funded = filtered['installment']*36 - filtered['funded_amnt']\n",
    "installment_minus_funded.describe()"
   ]
  },
  {
   "cell_type": "code",
   "execution_count": 21,
   "id": "1ce2803c-11b4-4fd2-94a5-51fe7d537b08",
   "metadata": {},
   "outputs": [
    {
     "data": {
      "text/plain": [
       "count    684369.000000\n",
       "mean       1714.908056\n",
       "std        1597.196882\n",
       "min       -6410.840000\n",
       "25%         650.991046\n",
       "50%        1263.954637\n",
       "75%        2249.420000\n",
       "max       19577.151653\n",
       "dtype: float64"
      ]
     },
     "execution_count": 21,
     "metadata": {},
     "output_type": "execute_result"
    }
   ],
   "source": [
    "# total_pymnt보다 funded_amnt가 더 많은 이상한 경우가 있다?\n",
    "total_minus_funded = filtered['total_pymnt'] - filtered['funded_amnt']\n",
    "total_minus_funded.describe()"
   ]
  },
  {
   "cell_type": "code",
   "execution_count": 22,
   "id": "2e9fa6d9-7d8f-4dcd-9072-dab2c1b7cf6b",
   "metadata": {},
   "outputs": [
    {
     "data": {
      "image/png": "[encoded data removed]",
      "text/plain": [
       "<Figure size 800x500 with 1 Axes>"
      ]
     },
     "metadata": {},
     "output_type": "display_data"
    }
   ],
   "source": [
    "import matplotlib.pyplot as plt\n",
    "\n",
    "plt.figure(figsize=(8,5))\n",
    "installment_minus_funded.hist(bins=30, edgecolor='black')\n",
    "plt.title('installment_minus_funded Histogram')\n",
    "plt.xlabel('installment_minus_funded')\n",
    "plt.ylabel('Frequency')\n",
    "plt.grid(True, linestyle='--', alpha=0.5)\n",
    "plt.show()"
   ]
  },
  {
   "cell_type": "code",
   "execution_count": 23,
   "id": "5f620783-6879-4c93-bad0-924c0acc48d1",
   "metadata": {},
   "outputs": [],
   "source": [
    "# 2. \"현재가치로 다 더한 값이 total_pymnt\" = 역산 방식\n",
    "# C가 매월 들어오고(가정), 이걸 (1+무위험이자율)^기간으로 곱한 값을 더해나간 값의 합이 total_pymnt가 되도록 C를 역으로 찾는 것\n",
    "# 즉, \"만약 만기 시점에 total_pymnt를 n개월에 걸쳐 동일하게 받는다면, 매월 얼마씩 받아야 total_pymnt의 가치랑 맞을까?\"\n",
    "# \"받을 돈이 언제 들어올지 모르니, 가장 단순하고 보수적으로 n개월 동안 같은 돈을 받는다고 치고, 실제 받은 금액과 맞추는 '가상 현금흐름'을 만든다.\"\n",
    "# \"미래 불확실성/불규칙성\"을 일종의 평균화, 단순화해서 모델의 IRR 계산을 일관되게 하려는 목적\n",
    "# 모두 total_pymnt 기준\n",
    "\n",
    "import numpy as np\n",
    "import numpy_financial as npf\n",
    "\n",
    "def calc_row_irr_full(row):\n",
    "    # 36개월 fully paid\n",
    "    if (row['loan_status'] == 0) and (row['term'] == 1):\n",
    "        n_months = 36\n",
    "        funded_amnt = row['funded_amnt']\n",
    "        installment = row['installment']\n",
    "        cash_flow = [-funded_amnt] + [installment] * n_months\n",
    "    # 60개월 fully paid\n",
    "    elif (row['loan_status'] == 0) and (row['term'] == 0):\n",
    "        n_months = 60\n",
    "        funded_amnt = row['funded_amnt']\n",
    "        installment = row['installment']\n",
    "        cash_flow = [-funded_amnt] + [installment] * n_months\n",
    "    # 36개월 default or charge off\n",
    "    elif (row['loan_status'] == 1) and (row['term'] == 1):\n",
    "        n_months = 36\n",
    "        funded_amnt = row['funded_amnt']\n",
    "        total_pymnt = row['total_pymnt']\n",
    "        mnth_treasury_rate = row['treasury']\n",
    "        discount_factors = [(1 + mnth_treasury_rate) ** t for t in range(1, n_months + 1)]\n",
    "        # 매월 유입될 C 계산\n",
    "        C = total_pymnt / sum(discount_factors)\n",
    "        cash_flow = [-funded_amnt] + [C] * n_months\n",
    "    # 60개월 default or charge off\n",
    "    elif (row['loan_status'] == 1) and (row['term'] == 0):\n",
    "        n_months = 60\n",
    "        funded_amnt = row['funded_amnt']\n",
    "        total_pymnt = row['total_pymnt']\n",
    "        mnth_treasury_rate = row['treasury']\n",
    "        discount_factors = [(1 + mnth_treasury_rate) ** t for t in range(1, n_months + 1)]\n",
    "        # 매월 유입될 C 계산\n",
    "        C = total_pymnt / sum(discount_factors)\n",
    "        cash_flow = [-funded_amnt] + [C] * n_months\n",
    "    else:\n",
    "        return np.nan\n",
    "\n",
    "    try:\n",
    "        irr = npf.irr(cash_flow)\n",
    "    except:\n",
    "        irr = np.nan\n",
    "    return irr\n",
    "\n",
    "# 일괄 적용 (전체 DataFrame, 모든 경우 대응)\n",
    "df['irr'] = df.apply(calc_row_irr_full, axis=1)"
   ]
  },
  {
   "cell_type": "code",
   "execution_count": 24,
   "id": "deeb3820-a418-4604-94e3-6d5eeec39f28",
   "metadata": {},
   "outputs": [
    {
     "name": "stdout",
     "output_type": "stream",
     "text": [
      "36개월 & fully paid에 NaN 개수: 0\n"
     ]
    }
   ],
   "source": [
    "filtered = df[(df['loan_status'] == 0) & (df['term'] == 1)]\n",
    "nan_count = filtered['irr'].isna().sum()\n",
    "print(f\"36개월 & fully paid에 NaN 개수: {nan_count}\")"
   ]
  },
  {
   "cell_type": "code",
   "execution_count": 25,
   "id": "5e9f868a-6e37-415e-bc6f-fa82ae8e4859",
   "metadata": {},
   "outputs": [
    {
     "name": "stdout",
     "output_type": "stream",
     "text": [
      "60개월 & fully paid에 NaN 개수: 0\n"
     ]
    }
   ],
   "source": [
    "filtered = df[(df['loan_status'] == 0) & (df['term'] == 0)]\n",
    "nan_count = filtered['irr'].isna().sum()\n",
    "print(f\"60개월 & fully paid에 NaN 개수: {nan_count}\")"
   ]
  },
  {
   "cell_type": "code",
   "execution_count": 26,
   "id": "6edf366a-9788-4cbe-82c8-462e1d55ad80",
   "metadata": {},
   "outputs": [
    {
     "name": "stdout",
     "output_type": "stream",
     "text": [
      "36개월 & default or charged에 NaN 개수: 608\n"
     ]
    }
   ],
   "source": [
    "filtered = df[(df['loan_status'] == 1) & (df['term'] == 1)]\n",
    "nan_count = filtered['irr'].isna().sum()\n",
    "print(f\"36개월 & default or charged에 NaN 개수: {nan_count}\")"
   ]
  },
  {
   "cell_type": "code",
   "execution_count": 27,
   "id": "7db3f430-7455-447f-93d4-04bb2d6028f6",
   "metadata": {},
   "outputs": [
    {
     "name": "stdout",
     "output_type": "stream",
     "text": [
      "60개월 & default or charged에 NaN 개수: 177\n"
     ]
    }
   ],
   "source": [
    "filtered = df[(df['loan_status'] == 1) & (df['term'] == 0)]\n",
    "nan_count = filtered['irr'].isna().sum()\n",
    "print(f\"60개월 & default or charged에 NaN 개수: {nan_count}\")"
   ]
  },
  {
   "cell_type": "code",
   "execution_count": 28,
   "id": "d8c83d6e-441d-4f94-ba83-484ab04eb8e3",
   "metadata": {},
   "outputs": [],
   "source": [
    "# irr의 결측치는 최소값으로 대체: \n",
    "# default or charge off에서 irr = NaN 경우는 total_pymnt가 너무 작아 수학적으로 irr이 구해지지 않는 경우\n",
    "df['irr'] = df['irr'].fillna(df['irr'].min(skipna=True))"
   ]
  },
  {
   "cell_type": "code",
   "execution_count": 29,
   "id": "1d69fe9c-5284-4c22-acce-44e323d6b01c",
   "metadata": {},
   "outputs": [
    {
     "data": {
      "text/plain": [
       "0"
      ]
     },
     "execution_count": 29,
     "metadata": {},
     "output_type": "execute_result"
    }
   ],
   "source": [
    "df['irr'].isna().sum()"
   ]
  },
  {
   "cell_type": "code",
   "execution_count": 30,
   "id": "a4c7107a-ffee-47bd-8ed4-1bcbb9ca66b3",
   "metadata": {},
   "outputs": [
    {
     "data": {
      "text/plain": [
       "count    684369.000000\n",
       "mean          0.009732\n",
       "std           0.003439\n",
       "min          -0.116614\n",
       "25%           0.006827\n",
       "50%           0.009534\n",
       "75%           0.011660\n",
       "max           0.025828\n",
       "Name: irr, dtype: float64"
      ]
     },
     "execution_count": 30,
     "metadata": {},
     "output_type": "execute_result"
    }
   ],
   "source": [
    "filtered = df[(df['loan_status'] == 0) & (df['term'] == 1)]\n",
    "filtered['irr'].describe()"
   ]
  },
  {
   "cell_type": "code",
   "execution_count": 31,
   "id": "e29c4601-407c-48fa-8d72-79e740eeb166",
   "metadata": {},
   "outputs": [
    {
     "data": {
      "text/plain": [
       "count    183531.000000\n",
       "mean          0.013139\n",
       "std           0.003900\n",
       "min          -0.034692\n",
       "25%           0.010517\n",
       "50%           0.012542\n",
       "75%           0.015450\n",
       "max           0.025826\n",
       "Name: irr, dtype: float64"
      ]
     },
     "execution_count": 31,
     "metadata": {},
     "output_type": "execute_result"
    }
   ],
   "source": [
    "filtered = df[(df['loan_status'] == 0) & (df['term'] == 0)]\n",
    "filtered['irr'].describe()"
   ]
  },
  {
   "cell_type": "code",
   "execution_count": 32,
   "id": "57fd059e-cc06-4971-9bee-5c8809f2122e",
   "metadata": {},
   "outputs": [
    {
     "data": {
      "text/plain": [
       "count    125942.000000\n",
       "mean         -0.033891\n",
       "std           0.030223\n",
       "min          -0.252353\n",
       "25%          -0.049066\n",
       "50%          -0.029870\n",
       "75%          -0.012842\n",
       "max           0.048632\n",
       "Name: irr, dtype: float64"
      ]
     },
     "execution_count": 32,
     "metadata": {},
     "output_type": "execute_result"
    }
   ],
   "source": [
    "filtered = df[(df['loan_status'] == 1) & (df['term'] == 1)]\n",
    "filtered['irr'].describe()"
   ]
  },
  {
   "cell_type": "code",
   "execution_count": 33,
   "id": "e6405752-5a8d-4746-bc7f-288c0111ee55",
   "metadata": {},
   "outputs": [
    {
     "data": {
      "text/plain": [
       "count    81556.000000\n",
       "mean        -0.022708\n",
       "std          0.019914\n",
       "min         -0.252353\n",
       "25%         -0.032922\n",
       "50%         -0.021556\n",
       "75%         -0.009857\n",
       "max          0.019295\n",
       "Name: irr, dtype: float64"
      ]
     },
     "execution_count": 33,
     "metadata": {},
     "output_type": "execute_result"
    }
   ],
   "source": [
    "filtered = df[(df['loan_status'] == 1) & (df['term'] == 0)]\n",
    "filtered['irr'].describe()"
   ]
  },
  {
   "cell_type": "code",
   "execution_count": 35,
   "id": "909274fd-5788-4821-a13c-374c9a6575da",
   "metadata": {},
   "outputs": [],
   "source": [
    "df.to_csv('IRR_preprocess_all_v3.csv', index=False, encoding='utf-8')"
   ]
  },
  {
   "cell_type": "code",
   "execution_count": 32,
   "id": "41ee77e3-2d3c-4d4e-ae7c-845211d25da1",
   "metadata": {},
   "outputs": [
    {
     "name": "stdout",
     "output_type": "stream",
     "text": [
      "533007   2007-06-01\n",
      "321      2007-07-01\n",
      "7219     2007-08-01\n",
      "15311    2007-09-01\n",
      "7387     2007-10-01\n",
      "            ...    \n",
      "13691    2020-05-01\n",
      "34       2020-06-01\n",
      "211      2020-07-01\n",
      "4582     2020-08-01\n",
      "4563     2020-09-01\n",
      "Name: issue_d, Length: 160, dtype: datetime64[ns]\n"
     ]
    }
   ],
   "source": [
    "# 1. 문자열을 datetime으로 변환 (format='mixed'로 다양한 날짜 형식 지원, pandas 2.0 이상)\n",
    "dates = pd.to_datetime(df['issue_d'], format='mixed')\n",
    "\n",
    "# 2. 중복 제거, 정렬 (Series에서만 가능)\n",
    "unique_dates = dates.drop_duplicates().sort_values()\n",
    "print(unique_dates)"
   ]
  },
  {
   "cell_type": "code",
   "execution_count": 6,
   "id": "84ac1c96-e5aa-4f36-8e77-51d935f5d185",
   "metadata": {},
   "outputs": [
    {
     "data": {
      "text/plain": [
       "array([1, 0])"
      ]
     },
     "execution_count": 6,
     "metadata": {},
     "output_type": "execute_result"
    }
   ],
   "source": [
    "df['loan_status'].unique()"
   ]
  },
  {
   "cell_type": "code",
   "execution_count": 17,
   "id": "267b8bdb-89b1-4476-984b-ca3128a6c656",
   "metadata": {},
   "outputs": [
    {
     "data": {
      "text/plain": [
       "array([0, 1])"
      ]
     },
     "execution_count": 17,
     "metadata": {},
     "output_type": "execute_result"
    }
   ],
   "source": [
    "df['term'].unique()"
   ]
  },
  {
   "cell_type": "code",
   "execution_count": null,
   "id": "685e4d6c-6b46-4651-9e85-7968874cf826",
   "metadata": {},
   "outputs": [],
   "source": []
  }
 ],
 "metadata": {
  "kernelspec": {
   "display_name": "Python [conda env:base] *",
   "language": "python",
   "name": "conda-base-py"
  },
  "language_info": {
   "codemirror_mode": {
    "name": "ipython",
    "version": 3
   },
   "file_extension": ".py",
   "mimetype": "text/x-python",
   "name": "python",
   "nbconvert_exporter": "python",
   "pygments_lexer": "ipython3",
   "version": "3.12.7"
  }
 },
 "nbformat": 4,
 "nbformat_minor": 5
}
